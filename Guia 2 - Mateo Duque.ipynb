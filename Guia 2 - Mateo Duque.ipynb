{
 "cells": [
  {
   "cell_type": "markdown",
   "id": "8355829b-d8ff-4de3-b020-c8f690f16921",
   "metadata": {},
   "source": [
    "# **GUIA 2 - MATEO DUQUE**"
   ]
  },
  {
   "cell_type": "markdown",
   "id": "5409c286-30c6-4258-b128-2abca8c7e8c5",
   "metadata": {},
   "source": [
    "## **Actividad 1**"
   ]
  },
  {
   "cell_type": "code",
   "execution_count": 3,
   "id": "ec1a5516-641e-48d8-a8f3-80bb62cc133f",
   "metadata": {},
   "outputs": [],
   "source": [
    "#importar pandas y leer archivo csv\n",
    "import pandas as pd\n",
    "\n",
    "#Leer Archivo csv titanic\n",
    "df1 = pd.read_csv('10.000_Empresas_mas_Grandes_del_Pa_s_20240822.csv')"
   ]
  },
  {
   "cell_type": "code",
   "execution_count": 4,
   "id": "fa447488-8cc3-4fc7-a1e0-d3f9bc241dbd",
   "metadata": {},
   "outputs": [
    {
     "name": "stdout",
     "output_type": "stream",
     "text": [
      "<class 'pandas.core.frame.DataFrame'>\n",
      "RangeIndex: 20000 entries, 0 to 19999\n",
      "Data columns (total 14 columns):\n",
      " #   Column                  Non-Null Count  Dtype \n",
      "---  ------                  --------------  ----- \n",
      " 0   NIT                     20000 non-null  int64 \n",
      " 1   RAZÓN SOCIAL            19998 non-null  object\n",
      " 2   SUPERVISOR              20000 non-null  object\n",
      " 3   REGIÓN                  20000 non-null  object\n",
      " 4   DEPARTAMENTO DOMICILIO  20000 non-null  object\n",
      " 5   CIUDAD DOMICILIO        20000 non-null  object\n",
      " 6   CIIU                    20000 non-null  int64 \n",
      " 7   MACROSECTOR             20000 non-null  object\n",
      " 8   INGRESOS OPERACIONALES  20000 non-null  object\n",
      " 9   GANANCIA (PÉRDIDA)      20000 non-null  object\n",
      " 10  TOTAL ACTIVOS           20000 non-null  object\n",
      " 11  TOTAL PASIVOS           20000 non-null  object\n",
      " 12  TOTAL PATRIMONIO        20000 non-null  object\n",
      " 13  Año de Corte            20000 non-null  int64 \n",
      "dtypes: int64(3), object(11)\n",
      "memory usage: 2.1+ MB\n"
     ]
    }
   ],
   "source": [
    "df1.info()"
   ]
  },
  {
   "cell_type": "markdown",
   "id": "16ff5136-4713-4fb8-a507-2ab43c32f20a",
   "metadata": {},
   "source": [
    "### **Limpiar de un caracter especial**"
   ]
  },
  {
   "cell_type": "code",
   "execution_count": 20,
   "id": "4a427da4-1f60-49b9-b88a-e4acf7b326ca",
   "metadata": {},
   "outputs": [
    {
     "name": "stdout",
     "output_type": "stream",
     "text": [
      "['BOGOTA' 'CARTAGENA' 'ENVIGADO' 'MEDELLIN' 'BARRANQUILLA' 'YUMBO'\n",
      " 'PEREIRA' 'CALI' 'ITAGUI' 'RIONEGRO' 'PASTO' 'ZARZAL' 'POPAYAN'\n",
      " 'BUCARAMANGA' 'PALMIRA' 'TURBACO' 'SOPO' 'COTA' 'FUNZA' 'CHIA'\n",
      " 'TOCANCIPA' 'GIRARDOTA' 'BARBOSA' 'SANTA MARTA' 'FACATATIVA' 'COPACABANA'\n",
      " 'MANIZALES' 'BUGA' 'CIENAGA DE ORO' 'CAJICA' 'CUCUTA' 'LA' 'SABANETA'\n",
      " 'GIRON' 'SOLEDAD' 'ALMEIDA' 'FLORIDABLANCA' 'LA TEBAIDA' 'PIEDECUESTA'\n",
      " 'BELLO' 'GALAPA' 'SANTANDER' 'APARTADO' 'CHINCHINA' 'TENJO' 'CANDELARIA'\n",
      " 'IBAGUE' 'TUNJA' 'SIBATE' 'ZIPAQUIRA' 'MALAMBO' 'SESQUILE' 'NEIVA'\n",
      " 'SINCELEJO' 'MOSQUERA' 'SOACHA' 'IPIALES' 'ARMENIA' 'PUERTO COLOMBIA'\n",
      " 'DOSQUEBRADAS' 'HERVEO' 'TULUA' 'MAICAO' 'BARANOA' 'SANTA ROSA DE CABAL'\n",
      " 'VILLA' 'MONTERIA' 'RIOHACHA' 'VALLEDUPAR' 'CALOTO' 'MADRID' 'MARINILLA'\n",
      " 'AMAGA' 'DUITAMA' 'VILLAVICENCIO' 'UBATE' 'SABANAGRANDE' 'JAMUNDI'\n",
      " 'TUMACO' 'GACHANCIPA' 'CARTAGO' 'SAN ANDRES' 'SANTA ROSA DE OSOS'\n",
      " 'CALDAS' 'GUACHENE' 'BARRANCABERMEJA' 'YOPAL' 'QUIBDO' 'FUQUENE'\n",
      " 'MARIQUITA' 'CIENAGA' 'CAREPA' 'GUARNE' 'REMEDIOS' 'CERETE' 'GUACARI'\n",
      " 'MAGANGUE' 'MANI' 'VILLA DEL ROSARIO' 'PUERTO ASIS' 'YOTOCO' 'PALERMO'\n",
      " 'FLORENCIA' 'SABANA DE TORRES' 'BUENAVENTURA' 'SAN ALBERTO' 'EL ZULIA'\n",
      " 'COGUA' 'PITALITO' 'CLEMENCIA' 'GUADALAJARA DE BUGA' 'ARAUCA' 'SAN PABLO'\n",
      " 'GRANADA' 'OCANA' 'MIRANDA' 'GINEBRA' 'YARUMAL' 'ANSERMA' 'FUSAGASUGA'\n",
      " 'PAEZ' 'FOMEQUE' 'ANTIOQUIA' 'ALVARADO' 'PLATO' 'JARDIN' 'CAUCASIA'\n",
      " 'SOGAMOSO' 'TAURAMENA' 'GUAMAL' 'SARAVENA' 'DONMATIAS' 'FLORIDA'\n",
      " 'AGUACHICA' 'SAN JOSE DEL GUAVIARE' 'PUERTO BERRIO' 'SUBACHOQUE' 'LIBANO'\n",
      " 'ESPINAL' 'PRADERA' 'COMBITA' 'GARZON' 'SOCORRO' 'VILLANUEVA'\n",
      " 'LOS PATIOS' 'SAN SEBASTIAN DE BUENAVISTA' 'ENTRERRIOS' 'GIRARDOT'\n",
      " 'GUACHETA' 'HONDA' 'SAN GIL' 'SAN' 'PUERTO TEJADA' 'ACACIAS' 'TURBO'\n",
      " 'TIBU' 'GIRALDO' 'GUATICA' 'BOLIVAR' 'PUERTO WILCHES' 'JERICO'\n",
      " 'MONTEBELLO' 'CHIQUINQUIRA' 'SANTAFE DE ANTIOQUIA' 'RESTREPO' 'LA CEJA'\n",
      " 'MOCOA' 'SAMACA' 'QUIMBAYA' 'MONIQUIRA' 'VILLAPINZON' 'CARMEN'\n",
      " 'BOCHALEMA' 'SANTUARIO' 'SITIONUEVO' 'SANTA ROSA' 'SAN JUAN DEL CESAR'\n",
      " 'TOCAIMA' 'PACHO' 'CAQUEZA' 'LA PLATA' 'PUERTO BOYACA' 'PAMPLONA'\n",
      " 'LORICA' 'CAMPOALEGRE' 'CHAPARRAL' 'SABANALARGA' 'RETIRO' 'MONTENEGRO'\n",
      " 'SAN PEDRO' 'SOCHA' 'ALBAN' 'SAN ANDRES DE TUMACO' 'SAN MARTIN' 'SINCE'\n",
      " 'CHIGORODO' 'PUERTO CARRENO' 'FLANDES' 'LA UNION' 'EL CARMEN DE BOLIVAR'\n",
      " 'YOLOMBO' 'ANSERMANUEVO' 'TAME' 'SANTA' 'LA VIRGINIA' 'TABIO' 'PAIPA'\n",
      " 'MALAGA' 'FUNDACION' 'VILLA DE SAN DIEGO DE UBATE' 'LETICIA' 'ARBOLETES'\n",
      " 'FIRAVITOBA' 'NOBSA' 'EL BANCO' 'LA PAZ' 'URIBIA' 'LA MESA' 'PIVIJAY'\n",
      " 'CUCUNUBA' 'LEBRIJA' 'SOATA' 'PUERTO GAITAN' 'TIERRALTA' 'MONTELIBANO'\n",
      " 'ROLDANILLO' 'PAZ DE RIO' 'ORITO' 'RIVERA' 'TELLO' 'BELEN' 'NEMOCON'\n",
      " 'YONDO' 'INIRIDA' 'MITU' 'PIENDAMO' 'PURIFICACION' 'ANDES' 'SEVILLA'\n",
      " 'FOSCA' 'EL BAGRE' 'ARJONA' 'SAN MARCOS' 'CHIRIGUANA' 'SEGOVIA' 'EL'\n",
      " 'SIMITI' 'PESCA' 'BUCARASICA' 'COROZAL' 'RIOFRIO' 'EL DONCELLO' 'SAHAGUN'\n",
      " 'CIUDAD BOLIVAR' 'NECOCLI' 'VILLAMARIA' 'BUGALAGRANDE' 'VELEZ' 'AGUAZUL'\n",
      " 'SIMIJACA' 'PITAL' 'VENTAQUEMADA' 'PLANETA RICA' 'SORACA' 'RIOSUCIO'\n",
      " 'MELGAR' 'SAN JUAN NEPOMUCENO' 'GACHETA' 'SALENTO' 'GUAMO' 'ALBANIA'\n",
      " 'BOGOTA D.C' 'PUERTO' 'LA ESTRELLA' 'LOS' 'SALDANA' 'LURUACO' 'CAMPO'\n",
      " 'URRAO' 'VALLE DEL GUAMUEZ' 'BOSCONIA' 'SAN ANDRES Y PROVIDENCIA'\n",
      " 'LERIDA' 'ARATOCA' 'COLON' 'SAN VICENTE DEL CAGUAN' 'CAICEDONIA'\n",
      " 'GUARANDA' 'SAN PEDRO DE URABA' 'CHOCONTA' 'VILLETA' 'CALARCA' 'ABREGO'\n",
      " 'FORTUL' 'LA VEGA' 'GUASCA' 'MANAURE']\n"
     ]
    }
   ],
   "source": [
    "#Eliminar la ciudad despues del guion y solo dejar la ciudad\n",
    "df1['CIUDAD DOMICILIO'] = df1['CIUDAD DOMICILIO'].str.split('-').str[0].str.strip()\n",
    "\n",
    "import unicodedata\n",
    "\n",
    "# Función para eliminar tildes\n",
    "def eliminar_tildes(texto):\n",
    "    if isinstance(texto, str):\n",
    "        # Normalizar y eliminar acentos\n",
    "        return unicodedata.normalize('NFKD', texto).encode('ASCII', 'ignore').decode('ASCII')\n",
    "    return texto\n",
    "\n",
    "df1['CIUDAD DOMICILIO'] = df1['CIUDAD DOMICILIO'].apply(eliminar_tildes)\n",
    "\n",
    "#Remplazar Bogota D.C por bogota\n",
    "df1['CIUDAD DOMICILIO'] = df1['CIUDAD DOMICILIO'].str.replace('BOGOTA D.C.','BOGOTA')\n",
    "\n",
    "print(df1['CIUDAD DOMICILIO'].unique())\n",
    "\n"
   ]
  },
  {
   "cell_type": "code",
   "execution_count": 23,
   "id": "1d2cee88-e177-45c1-9dc5-52d949df402a",
   "metadata": {},
   "outputs": [
    {
     "name": "stdout",
     "output_type": "stream",
     "text": [
      "[9]\n"
     ]
    }
   ],
   "source": [
    "#Convertir el NIT a texto\n",
    "df1['NIT'] = df1['NIT'].astype(str)\n",
    "#Identificar la cantidad de los caracteres y agregarlos en una columna\n",
    "df1['Longitud NIT'] = df1['NIT'].str.len()\n",
    "\n",
    "print(df1['Longitud NIT'].unique())\n",
    "\n",
    "#Se verifica que todos tienen 9 caracteres"
   ]
  },
  {
   "cell_type": "markdown",
   "id": "bb09f506-e80d-4f20-a9ad-80e12cb16d65",
   "metadata": {},
   "source": [
    "### **ACTIVIDIDAD 2 - GUIA 2**"
   ]
  },
  {
   "cell_type": "markdown",
   "id": "6870bc65-61cb-4e94-a346-1b85467b949f",
   "metadata": {},
   "source": [
    "#### **Transformar datos a numericos**"
   ]
  },
  {
   "cell_type": "code",
   "execution_count": 26,
   "id": "7fa37faf-ac9d-4592-99b4-7ef983593f22",
   "metadata": {},
   "outputs": [
    {
     "name": "stdout",
     "output_type": "stream",
     "text": [
      "NIT                        object\n",
      "RAZÓN SOCIAL               object\n",
      "SUPERVISOR                 object\n",
      "REGIÓN                     object\n",
      "DEPARTAMENTO DOMICILIO     object\n",
      "CIUDAD DOMICILIO           object\n",
      "CIIU                        int64\n",
      "MACROSECTOR                object\n",
      "INGRESOS OPERACIONALES    float64\n",
      "GANANCIA (PÉRDIDA)        float64\n",
      "TOTAL ACTIVOS             float64\n",
      "TOTAL PASIVOS             float64\n",
      "TOTAL PATRIMONIO          float64\n",
      "Año de Corte                int64\n",
      "Longitud NIT                int64\n",
      "dtype: object\n"
     ]
    }
   ],
   "source": [
    "\n",
    "# Eliminar el símbolo '$' de todo el DataFrame\n",
    "df1 = df1.replace({'\\$': ''}, regex=True)\n",
    "\n",
    "# Convertir varias columnas a tipo numérico\n",
    "columnas_a_convertir = ['INGRESOS OPERACIONALES', 'GANANCIA (PÉRDIDA)', 'TOTAL ACTIVOS', 'TOTAL PASIVOS', 'TOTAL PATRIMONIO']\n",
    "df1[columnas_a_convertir] = df1[columnas_a_convertir].apply(pd.to_numeric)\n",
    "\n",
    "print(df1.dtypes)"
   ]
  },
  {
   "cell_type": "markdown",
   "id": "b808b026-7ded-42b1-9702-37448b34cfda",
   "metadata": {},
   "source": [
    "#### **Analisis de Datos**"
   ]
  },
  {
   "cell_type": "code",
   "execution_count": 30,
   "id": "c7408894-cbfa-411f-b467-8cf4eab8e609",
   "metadata": {},
   "outputs": [
    {
     "name": "stdout",
     "output_type": "stream",
     "text": [
      "Año de Corte\n",
      "2021    1306.35\n",
      "2022    1727.58\n",
      "Name: INGRESOS OPERACIONALES, dtype: float64\n"
     ]
    }
   ],
   "source": [
    "#Suma de ingresos operacionales por año\n",
    "ingresos_operacionales_año = df1.groupby(['Año de Corte'])['INGRESOS OPERACIONALES'].sum()\n",
    "print(ingresos_operacionales)"
   ]
  },
  {
   "cell_type": "code",
   "execution_count": 32,
   "id": "e7dd5f2e-fe88-42d7-80f3-bf473ad5adf7",
   "metadata": {},
   "outputs": [
    {
     "name": "stdout",
     "output_type": "stream",
     "text": [
      "DEPARTAMENTO DOMICILIO\n",
      "VAUPES                         0.04\n",
      "GUAINIA                        0.04\n",
      "VICHADA                        0.15\n",
      "AMAZONAS                       0.23\n",
      "GUAVIARE                       0.32\n",
      "PUTUMAYO                       0.86\n",
      "ARAUCA                         1.15\n",
      "CHOCO                          1.19\n",
      "CAQUETA                        1.51\n",
      "SAN ANDRES Y PROVIDENCIA       2.09\n",
      "LA GUAJIRA                     2.29\n",
      "CASANARE                       2.46\n",
      "SUCRE                          3.40\n",
      "CESAR                          4.94\n",
      "QUINDIO                        7.28\n",
      "BOYACA                         8.27\n",
      "HUILA                          8.55\n",
      "META                           9.02\n",
      "CORDOBA                        9.31\n",
      "TOLIMA                        11.03\n",
      "NARIÑO                        14.45\n",
      "MAGDALENA                     18.07\n",
      "NORTE DE SANTANDER            19.84\n",
      "CAUCA                         20.56\n",
      "CALDAS                        24.54\n",
      "RISARALDA                     33.26\n",
      "SANTANDER                     62.26\n",
      "BOLIVAR                      112.68\n",
      "ATLANTICO                    126.59\n",
      "CUNDINAMARCA                 137.17\n",
      "VALLE                        218.20\n",
      "ANTIOQUIA                    504.33\n",
      "BOGOTA                      1667.85\n",
      "Name: INGRESOS OPERACIONALES, dtype: float64\n"
     ]
    }
   ],
   "source": [
    "#Suma de ingresos por departamentos domicilio\n",
    "ingresos_operacionales_dpt = df1.groupby(['DEPARTAMENTO DOMICILIO'])['INGRESOS OPERACIONALES'].sum()\n",
    "print(ingresos_operacionales_dpt.sort_values())"
   ]
  },
  {
   "cell_type": "code",
   "execution_count": null,
   "id": "eb440a4e-ab09-4555-a154-a006bc0d2f28",
   "metadata": {},
   "outputs": [],
   "source": []
  }
 ],
 "metadata": {
  "kernelspec": {
   "display_name": "Python 3 (ipykernel)",
   "language": "python",
   "name": "python3"
  },
  "language_info": {
   "codemirror_mode": {
    "name": "ipython",
    "version": 3
   },
   "file_extension": ".py",
   "mimetype": "text/x-python",
   "name": "python",
   "nbconvert_exporter": "python",
   "pygments_lexer": "ipython3",
   "version": "3.9.6"
  }
 },
 "nbformat": 4,
 "nbformat_minor": 5
}
